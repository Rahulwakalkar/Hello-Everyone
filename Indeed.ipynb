{
 "cells": [
  {
   "cell_type": "code",
   "execution_count": 1,
   "id": "62d80d28",
   "metadata": {},
   "outputs": [],
   "source": [
    "import re\n",
    "import csv\n",
    "import requests\n",
    "from bs4 import BeautifulSoup\n",
    "from time import sleep\n",
    "from random import randint"
   ]
  },
  {
   "cell_type": "code",
   "execution_count": 2,
   "id": "776c5d63",
   "metadata": {},
   "outputs": [],
   "source": [
    "jk_pattern = re.compile(r\"jk:\\'([a-zA-Z0-9]+)'\")"
   ]
  },
  {
   "cell_type": "code",
   "execution_count": 3,
   "id": "3438e7b0",
   "metadata": {},
   "outputs": [],
   "source": [
    "params = { \"q\": \"accountant\", \"l\": \"charlotte+nc\", \"start\": 0 }\n",
    "url = \"https://www.indeed.com/jobs\"\n",
    "job_keys = set()"
   ]
  },
  {
   "cell_type": "code",
   "execution_count": 4,
   "id": "2a56c1ea",
   "metadata": {},
   "outputs": [],
   "source": [
    "for x in range(10):\n",
    "    response = requests.get(url, params=params)\n",
    "    if not response.status_code == 200:\n",
    "        break\n",
    "    else:\n",
    "        keys = jk_pattern.findall(response.text)\n",
    "        if len(keys) > 0:\n",
    "            for key in keys:\n",
    "                job_keys.add(key)\n",
    "    \n",
    "    params['start'] += 20\n",
    "    sleep(randint(0, 3))"
   ]
  },
  {
   "cell_type": "code",
   "execution_count": 5,
   "id": "eff01699",
   "metadata": {},
   "outputs": [],
   "source": [
    "template = \"https://www.indeed.com/viewjob?jk={}\""
   ]
  },
  {
   "cell_type": "code",
   "execution_count": 6,
   "id": "efe313b8",
   "metadata": {},
   "outputs": [],
   "source": [
    "jk = job_keys.pop()\n",
    "job_url = template.format(jk)\n",
    "response = requests.get(job_url)"
   ]
  },
  {
   "cell_type": "code",
   "execution_count": 7,
   "id": "16913704",
   "metadata": {},
   "outputs": [],
   "source": [
    "soup = BeautifulSoup(response.text, 'html.parser')"
   ]
  },
  {
   "cell_type": "code",
   "execution_count": 8,
   "id": "005b79ff",
   "metadata": {},
   "outputs": [
    {
     "name": "stdout",
     "output_type": "stream",
     "text": [
      "Job Description\n",
      "\n",
      "Freight Invoice Audit Specialist\n",
      "Charlotte, NC, USA Req #1342\n",
      "Thursday, September 2, 2021\n",
      "The mission of the Managed Logistics Services (MLS) business unit of Odyssey Logistics & Technology is to provide value-driven, proactive logistics services using our expertise and technology on a global basis. Our People are the core of our business and support our values of Service Excellence , Innovation , Solutions , and Continuous Improvement .\n",
      "\n",
      "We are looking for professionals who are dedicated to client success, focused on developing solutions by working collaboratively, accountable for results, and who feel empowered to take initiative and find creative and effective ways to satisfy stakeholders.\n",
      "\n",
      "With our advanced technology, global network and integrated processes, we regularly break new ground for clients and can offer logistics careers that cultivate successful professionals and develop existing talent. The MLS business unit is based in Charlotte, NC and has team members across the United States, as well as in Mexico, China, Belgium, Poland, Hong Kong, and Japan.\n",
      "\n",
      "For more information, please visit www.odysseylogistics.com .\n",
      "Odyssey is looking for a Freight Invoice Audit Specialist I who will be responsible for auditing and reconciling Odyssey's clients freight bills so that payments to carriers are approved timely and correctly. The audit process will require the auditor to process all failures to include cost and non-cost. Other responsibilities of the Freight Invoice Audit Specialist I include resolving any billing discrepancies with carriers and correcting discrepancies in Customer shipment data when failing to pass system validations.\n",
      "Qualifications and Key Skills:\n",
      "(The following are representative of the education, experience, knowledge, skills or ability required for this position)\n",
      "High school diploma required. Four-year college degree a plus.\n",
      "Knowledge of general transportation rules and regulations a plus.\n",
      "Prior experience in Auditing/Accounting a plus.\n",
      "Excellent customer service skills.\n",
      "Ability to deal with problems involving variables in standardized situations.\n",
      "Ability to prioritize and manage multiple critical projects simultaneously.\n",
      "Good analytical skills in identifying areas for cost improvement or cost avoidance.\n",
      "MS Office expertise, including strong Excel skills. Excellent data analysis skills.\n",
      "Detail-oriented, self-starter with the willingness and ability to identify process improvements.\n",
      "Ability to extract data from carrier pricing diskettes and manipulate data using Excel and other software programs.\n",
      "Must possess recordkeeping administration experience.\n",
      "Odyssey is an Equal Opportunity Employer and does not discriminate against qualified applicants with regard to race, color, religion, age, sex, national origin, disability, sexual orientation, genetics or veteran status. In addition to federal law requirements Odyssey complies with applicable state and local laws governing nondiscrimination in employment in every location in which the company has facilities. This policy applies to all terms and conditions of employment. No relocation allowance will be considered unless specifically addressed. All applicants must be currently authorized to work in the United States.\n",
      "\n",
      "Other details\n",
      "Job Family Operations\n",
      "Pay Type Hourly\n",
      "Travel Required No\n",
      "Required Education High School\n",
      "Charlotte, NC, USA\n"
     ]
    }
   ],
   "source": [
    "print(soup.find(\"div\", id=\"jobDescriptionText\").text)"
   ]
  },
  {
   "cell_type": "code",
   "execution_count": null,
   "id": "be633c05",
   "metadata": {},
   "outputs": [],
   "source": []
  }
 ],
 "metadata": {
  "kernelspec": {
   "display_name": "Python 3",
   "language": "python",
   "name": "python3"
  },
  "language_info": {
   "codemirror_mode": {
    "name": "ipython",
    "version": 3
   },
   "file_extension": ".py",
   "mimetype": "text/x-python",
   "name": "python",
   "nbconvert_exporter": "python",
   "pygments_lexer": "ipython3",
   "version": "3.8.8"
  }
 },
 "nbformat": 4,
 "nbformat_minor": 5
}
